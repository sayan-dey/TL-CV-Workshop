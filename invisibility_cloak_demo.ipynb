{
  "cells": [
    {
      "cell_type": "markdown",
      "metadata": {
        "id": "3oCTwRFQZ7x_"
      },
      "source": [
        "# Invisibility Cloak"
      ]
    },
    {
      "cell_type": "markdown",
      "metadata": {
        "id": "JtPlHgKkaKvc"
      },
      "source": [
        "## Defining Functions"
      ]
    },
    {
      "cell_type": "code",
      "execution_count": 1,
      "metadata": {
        "id": "YshnJ7s_ZxR_"
      },
      "outputs": [],
      "source": [
        "import cv2\n",
        "import numpy as np\n",
        "\n",
        "def create_mask(frame, lower_hsv, upper_hsv, kernel_size=3):\n",
        "\tinspect = cv2.cvtColor(frame, cv2.COLOR_BGR2HSV)\n",
        "\tmask = cv2.inRange(inspect, lower_hsv, upper_hsv)\n",
        "\tmask = cv2.medianBlur(mask, 3)\n",
        "\tkernel = np.ones((kernel_size, kernel_size), np.uint8)\n",
        "\tmask = cv2.dilate(mask, kernel, iterations=5)\n",
        "\n",
        "\treturn mask\n",
        "\n",
        "def create_trackbars():\n",
        "\tcv2.createTrackbar(\"lower_hue\", \"Bars\", 0, 180, nothing)\n",
        "\tcv2.createTrackbar(\"lower_saturation\", \"Bars\", 0, 255, nothing)\n",
        "\tcv2.createTrackbar(\"lower_value\", \"Bars\", 0, 255, nothing)\n",
        "\tcv2.createTrackbar(\"upper_hue\", \"Bars\", 0, 180, nothing)\n",
        "\tcv2.createTrackbar(\"upper_saturation\", \"Bars\", 0, 255, nothing)\n",
        "\tcv2.createTrackbar(\"upper_value\", \"Bars\", 0, 255, nothing)\n",
        "\n",
        "def get_trackbar_values():\n",
        "\tlower_value = cv2.getTrackbarPos(\"lower_value\", \"Bars\")\n",
        "\tlower_hue = cv2.getTrackbarPos(\"lower_hue\", \"Bars\")\n",
        "\tlower_saturation = cv2.getTrackbarPos(\"lower_saturation\", \"Bars\")\n",
        "\tupper_hue = cv2.getTrackbarPos(\"upper_hue\", \"Bars\")\n",
        "\tupper_saturation = cv2.getTrackbarPos(\"upper_saturation\", \"Bars\")\n",
        "\tupper_value = cv2.getTrackbarPos(\"upper_value\", \"Bars\")\n",
        "\n",
        "\treturn lower_hue, lower_saturation, lower_value, upper_hue, upper_saturation, upper_value\n",
        "\n",
        "def nothing(x):\n",
        "\tpass"
      ]
    },
    {
      "cell_type": "markdown",
      "metadata": {
        "id": "vqLgX56kftCk"
      },
      "source": [
        "## Launch the cam\n",
        "\n",
        "Press `q` to quit.\n",
        "\n",
        "Slider values to detect red:\n",
        "\n",
        "Lower -> 150H, 90S, 0V\n",
        "\n",
        "Upper -> 180H, 255S, 255V (max)"
      ]
    },
    {
      "cell_type": "code",
      "execution_count": 6,
      "metadata": {
        "id": "IODs-7c8aQZ-"
      },
      "outputs": [],
      "source": [
        "# Set up the cam\n",
        "cap = cv2.VideoCapture(0)\n",
        "bars = cv2.namedWindow(\"Bars\")\n",
        "\n",
        "create_trackbars()\n",
        "\n",
        "image_size = (120, 240, 3)\n",
        "l_center = (image_size[1] // 4, image_size[0] // 2)\n",
        "radius = min(l_center[0], l_center[1]) - 5\n",
        "\n",
        "# Capture the initial frame for creating the background\n",
        "while True:\n",
        "\tcv2.waitKey(1000)\n",
        "\tret, init_frame = cap.read()\n",
        "\tif ret:\n",
        "\t\tbreak\n",
        "\n",
        "prev_lh, prev_ls, prev_lv, prev_uh, prev_us, prev_uv = [0, 0, 0, 179, 255, 255]\n",
        "\n",
        "# Start the cloak cam\n",
        "while True:\n",
        "\tret, frame = cap.read()\n",
        "\n",
        "\tlower_hue, lower_saturation, lower_value, upper_hue, upper_saturation, upper_value = get_trackbar_values()\n",
        "\tlower_hsv = np.array([lower_hue, lower_saturation, lower_value])\n",
        "\tupper_hsv = np.array([upper_hue, upper_saturation, upper_value])\n",
        "\n",
        "\tmask = create_mask(frame, lower_hsv, upper_hsv)\n",
        "\n",
        "\tmask_inv = 255 - mask\n",
        "\n",
        "\t# Bitwise operations to get the final frame\n",
        "\tframe_inv = cv2.bitwise_and(frame, frame, mask=mask_inv)\n",
        "\n",
        "\t# Bitwise operations to get the blanket area\n",
        "\tblanket_area = cv2.bitwise_and(init_frame, init_frame, mask=mask)\n",
        "\n",
        "\t# Combine the two frames\n",
        "\tfinal = cv2.bitwise_or(frame_inv, blanket_area)\n",
        "\n",
        "\tif (prev_lh, prev_ls, prev_lv, prev_uh, prev_us, prev_uv) != (lower_hue, lower_saturation, lower_value, upper_hue, upper_saturation, upper_value):\n",
        "\t\tcircs = np.ones(image_size, dtype=np.uint8) * 255\n",
        "\n",
        "\t\tfor y in range(image_size[0]):\n",
        "\t\t\tfor x in range(image_size[1] // 2):\n",
        "\t\t\t\tr_sq = (x - l_center[1]) ** 2 + (y - l_center[0]) ** 2\n",
        "\t\t\t\tif r_sq < radius ** 2:\n",
        "\t\t\t\t\thue = round((np.arctan2(y - l_center[0], x - l_center[1]) / np.pi + 1) * 90)\n",
        "\t\t\t\t\tsat = round(np.sqrt(r_sq) / radius * 255)\n",
        "\t\t\t\t\tif lower_hue <= hue <= upper_hue and lower_saturation <= sat <= upper_saturation:\n",
        "\t\t\t\t\t\tcircs[y, x] = cv2.cvtColor(np.uint8([[(hue, sat, lower_value)]]), cv2.COLOR_HSV2BGR)[0][0]\n",
        "\t\t\t\t\t\tcircs[y, x + image_size[1] // 2] = cv2.cvtColor(np.uint8([[(hue, sat, upper_value)]]), cv2.COLOR_HSV2BGR)[0][0]\n",
        "\n",
        "\tcv2.imshow('Detection Spectra', circs)\n",
        "\n",
        "\tcv2.imshow(\"Cloak Cam\", final)\n",
        "\n",
        "\tif cv2.waitKey(3) == ord('q'):\n",
        "\t\tbreak\n",
        "\n",
        "\tprev_lh, prev_ls, prev_lv, prev_uh, prev_us, prev_uv = (lower_hue, lower_saturation, lower_value, upper_hue, upper_saturation, upper_value)\n",
        "\n",
        "cv2.destroyAllWindows()\n",
        "cap.release()"
      ]
    }
  ],
  "metadata": {
    "colab": {
      "provenance": []
    },
    "kernelspec": {
      "display_name": "Python 3",
      "name": "python3"
    },
    "language_info": {
      "codemirror_mode": {
        "name": "ipython",
        "version": 3
      },
      "file_extension": ".py",
      "mimetype": "text/x-python",
      "name": "python",
      "nbconvert_exporter": "python",
      "pygments_lexer": "ipython3",
      "version": "3.11.0"
    }
  },
  "nbformat": 4,
  "nbformat_minor": 0
}
